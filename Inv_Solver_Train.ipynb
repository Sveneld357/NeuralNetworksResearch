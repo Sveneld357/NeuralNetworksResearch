{
 "cells": [
  {
   "cell_type": "markdown",
   "metadata": {},
   "source": [
    "# Inverse Problem Solver  "
   ]
  },
  {
   "cell_type": "markdown",
   "metadata": {},
   "source": [
    "# Part 1. Training"
   ]
  },
  {
   "cell_type": "markdown",
   "metadata": {},
   "source": [
    "This notebook contains the main code to  train solver deeep network based"
   ]
  },
  {
   "cell_type": "code",
   "execution_count": 1,
   "metadata": {},
   "outputs": [
    {
     "name": "stdout",
     "output_type": "stream",
     "text": [
      "Requirement already satisfied: plotly in /opt/conda/lib/python3.6/site-packages (4.4.1)\r\n",
      "Requirement already satisfied: six in /opt/conda/lib/python3.6/site-packages (from plotly) (1.11.0)\r\n",
      "Requirement already satisfied: retrying>=1.3.3 in /opt/conda/lib/python3.6/site-packages (from plotly) (1.3.3)\r\n"
     ]
    }
   ],
   "source": [
    "!pip install plotly"
   ]
  },
  {
   "cell_type": "code",
   "execution_count": 2,
   "metadata": {},
   "outputs": [
    {
     "name": "stderr",
     "output_type": "stream",
     "text": [
      "Using TensorFlow backend.\n"
     ]
    }
   ],
   "source": [
    "import plotly\n",
    "import numpy as np\n",
    "import plotly.graph_objects as go\n",
    "import matplotlib.pyplot as plt\n",
    "import plotly.express as px\n",
    "%matplotlib inline\n",
    "from numpy import hstack\n",
    "from numpy import zeros\n",
    "from numpy import ones\n",
    "from numpy.random import rand\n",
    "from numpy.random import randn\n",
    "from keras.models import Sequential\n",
    "from keras import models\n",
    "from keras.models import Sequential\n",
    "from keras.layers import Dense\n",
    "from keras.callbacks import ModelCheckpoint\n",
    "from keras.models import load_model"
   ]
  },
  {
   "cell_type": "markdown",
   "metadata": {},
   "source": [
    "We need several functions defined before.\n",
    "The first one is paramenrs generator - GAN"
   ]
  },
  {
   "cell_type": "code",
   "execution_count": 3,
   "metadata": {},
   "outputs": [],
   "source": [
    "def PhysWorld(var_par, Trib, accell_g, vis):\n",
    "    dt=0.01\n",
    "    Times=10\n",
    "    TN=np.int(Times/dt)\n",
    "    kdivm=Trib\n",
    "    x=np.zeros(TN+2)\n",
    "    y=np.zeros(TN+2)\n",
    "    v_x=np.zeros(TN+2)\n",
    "    v_y=np.zeros(TN+2)\n",
    "    v_x[0]=var_par[0]*np.cos(var_par[1])\n",
    "    v_y[0]=var_par[0]*np.sin(var_par[1])\n",
    "    \n",
    "    i=0\n",
    "    while ((y[i])>=0):\n",
    "        v_x[i+1]=v_x[i]-kdivm*v_x[i]*np.sqrt(v_x[i]**2+v_y[i]**2)*dt\n",
    "        v_y[i+1]=v_y[i]-(accell_g+kdivm*v_y[i]*np.sqrt(v_x[i]**2+v_y[i]**2))*dt\n",
    "        x[i+1]=x[i]+0.5*(v_x[i]+v_x[i+1])*dt\n",
    "        y[i+1]=y[i]+0.5*(v_y[i]+v_y[i+1])*dt\n",
    "        #print(y[i+1])\n",
    "        i=i+1\n",
    "    if vis==True:\n",
    "        fig = px.scatter(x=x, y=y)\n",
    "        fig.show()\n",
    "    \n",
    "        \n",
    "    sensor_data=np.array([x[i-1],v_x[i]/v_y[i]])\n",
    "    return sensor_data"
   ]
  },
  {
   "cell_type": "code",
   "execution_count": 4,
   "metadata": {},
   "outputs": [],
   "source": [
    "def sim_batch(params, batch_size):\n",
    "    for i in range(batch_size):\n",
    "        var_par=params[i,:]\n",
    "        sensor_data=PhysWorld(var_par, Trib, accell_g, vis=False)\n",
    "        #print(sensor_data)\n",
    "        if i ==0:\n",
    "            Sens_data=sensor_data\n",
    "        else:\n",
    "            Sens_data=np.vstack([Sens_data,sensor_data])\n",
    "    return Sens_data "
   ]
  },
  {
   "cell_type": "markdown",
   "metadata": {},
   "source": [
    "Now we can create the main model to solve inverse problem"
   ]
  },
  {
   "cell_type": "code",
   "execution_count": 5,
   "metadata": {},
   "outputs": [
    {
     "name": "stdout",
     "output_type": "stream",
     "text": [
      "_________________________________________________________________\n",
      "Layer (type)                 Output Shape              Param #   \n",
      "=================================================================\n",
      "dense_1 (Dense)              (None, 2)                 6         \n",
      "_________________________________________________________________\n",
      "dense_2 (Dense)              (None, 2)                 6         \n",
      "_________________________________________________________________\n",
      "dense_3 (Dense)              (None, 2)                 6         \n",
      "=================================================================\n",
      "Total params: 18\n",
      "Trainable params: 18\n",
      "Non-trainable params: 0\n",
      "_________________________________________________________________\n"
     ]
    }
   ],
   "source": [
    "#Build model\n",
    "s_model = Sequential()\n",
    "s_model.add(Dense(2, input_dim=2, kernel_initializer='normal', activation='relu'))\n",
    "s_model.add(Dense(2, kernel_initializer='normal', activation='relu'))\n",
    "s_model.add(Dense(2, kernel_initializer='normal'))\n",
    "# Compile model\n",
    "s_model.compile(loss='mean_squared_error', optimizer='adam')\n",
    "s_model.summary()  "
   ]
  },
  {
   "cell_type": "markdown",
   "metadata": {},
   "source": [
    "### Main loop to train the s-model"
   ]
  },
  {
   "cell_type": "code",
   "execution_count": 6,
   "metadata": {},
   "outputs": [],
   "source": [
    "#Physical world parametrs\n",
    "accell_g=9.8\n",
    "Trib=0.25"
   ]
  },
  {
   "cell_type": "code",
   "execution_count": 7,
   "metadata": {},
   "outputs": [],
   "source": [
    "# learning batch size\n",
    "batch_size=30\n",
    "#how many epochs we use\n",
    "epochs=3"
   ]
  },
  {
   "cell_type": "code",
   "execution_count": 8,
   "metadata": {},
   "outputs": [],
   "source": [
    "from tqdm import tqdm\n",
    "from sklearn.preprocessing import MinMaxScaler, StandardScaler\n",
    "import pandas as pd\n",
    "from keras.layers import LeakyReLU\n",
    "import matplotlib.pyplot as plt\n",
    "%matplotlib inline"
   ]
  },
  {
   "cell_type": "code",
   "execution_count": 9,
   "metadata": {},
   "outputs": [],
   "source": [
    "def generate_fake_samples(generator, latent_dim, n):\n",
    "    # generate points in latent space\n",
    "    x_input = generate_latent_points(latent_dim, n)\n",
    "    # predict outputs\n",
    "    X = generator.predict(x_input)\n",
    "    # create class labels\n",
    "    y = zeros((n, 1))\n",
    "    return X, y"
   ]
  },
  {
   "cell_type": "code",
   "execution_count": 10,
   "metadata": {},
   "outputs": [],
   "source": [
    "def generate_latent_points(latent_dim, n):\n",
    "    # generate points in the latent space\n",
    "    x_input = randn(latent_dim * n)\n",
    "    # reshape into a batch of inputs for the network\n",
    "    x_input = x_input.reshape(n, latent_dim)\n",
    "    return x_input"
   ]
  },
  {
   "cell_type": "code",
   "execution_count": 17,
   "metadata": {},
   "outputs": [
    {
     "name": "stderr",
     "output_type": "stream",
     "text": [
      "/opt/conda/lib/python3.6/site-packages/keras/models.py:252: UserWarning:\n",
      "\n",
      "No training configuration found in save file: the model was *not* compiled. Compile it manually.\n",
      "\n"
     ]
    }
   ],
   "source": [
    "# Recreate the exact same model purely from the file\n",
    "generator = load_model('var_par_generator.h5')"
   ]
  },
  {
   "cell_type": "code",
   "execution_count": 12,
   "metadata": {},
   "outputs": [
    {
     "name": "stdout",
     "output_type": "stream",
     "text": [
      "_________________________________________________________________\n",
      "Layer (type)                 Output Shape              Param #   \n",
      "=================================================================\n",
      "dense_7 (Dense)              (None, 15)                90        \n",
      "_________________________________________________________________\n",
      "dense_8 (Dense)              (None, 2)                 32        \n",
      "=================================================================\n",
      "Total params: 122\n",
      "Trainable params: 122\n",
      "Non-trainable params: 0\n",
      "_________________________________________________________________\n"
     ]
    }
   ],
   "source": [
    "generator.summary()"
   ]
  },
  {
   "cell_type": "code",
   "execution_count": 13,
   "metadata": {},
   "outputs": [],
   "source": [
    "treshold=5\n",
    "latent_dim=5"
   ]
  },
  {
   "cell_type": "code",
   "execution_count": 18,
   "metadata": {
    "scrolled": true
   },
   "outputs": [
    {
     "name": "stdout",
     "output_type": "stream",
     "text": [
      "epochs= 0\n"
     ]
    },
    {
     "data": {
      "image/png": "[encoded data removed]",
      "text/plain": [
       "<Figure size 432x288 with 1 Axes>"
      ]
     },
     "metadata": {},
     "output_type": "display_data"
    }
   ],
   "source": [
    "# Main loop\n",
    "Loss=[1] \n",
    "history=1\n",
    "e=0\n",
    "while history >=treshold:\n",
    "    for _ in tqdm(range(batch_size)):\n",
    "        # Generate batch of parameters\n",
    "        generated_params,y = generate_fake_samples(generator, latent_dim, batch_size)\n",
    "        print(\"params\",generated_params )\n",
    "        #Simulate sensor data \n",
    "        Sensor_data=sim_batch(generated_params, batch_size)\n",
    "        \n",
    "        print('sensors', Sensor_data)\n",
    "            \n",
    "        #train the deep network. \n",
    "        history=s_model.train_on_batch(Sensor_data, generated_params)\n",
    "        Loss=np.vstack([Loss,history])\n",
    "        e=e+1    \n",
    "print('epochs=', e)           \n",
    "          \n",
    "plt.plot(Loss)\n",
    "plt.show()"
   ]
  },
  {
   "cell_type": "code",
   "execution_count": 15,
   "metadata": {},
   "outputs": [
    {
     "data": {
      "text/plain": [
       "3362"
      ]
     },
     "execution_count": 15,
     "metadata": {},
     "output_type": "execute_result"
    }
   ],
   "source": [
    "e"
   ]
  },
  {
   "cell_type": "code",
   "execution_count": 16,
   "metadata": {},
   "outputs": [
    {
     "data": {
      "image/png": "[encoded data removed]",
      "text/plain": [
       "<Figure size 432x288 with 1 Axes>"
      ]
     },
     "metadata": {},
     "output_type": "display_data"
    }
   ],
   "source": [
    "plt.plot(Loss)\n",
    "plt.show()"
   ]
  },
  {
   "cell_type": "code",
   "execution_count": null,
   "metadata": {},
   "outputs": [],
   "source": [
    "s_model.save('inv_prob_nn.h5')"
   ]
  },
  {
   "cell_type": "markdown",
   "metadata": {},
   "source": [
    "## End of Part 1."
   ]
  },
  {
   "cell_type": "markdown",
   "metadata": {},
   "source": [
    "# Part 2. Inference : Solving the inverse problem "
   ]
  },
  {
   "cell_type": "code",
   "execution_count": null,
   "metadata": {},
   "outputs": [],
   "source": [
    "import plotly\n",
    "import numpy as np\n",
    "import pandas as pd\n",
    "import plotly.graph_objects as go\n",
    "import matplotlib.pyplot as plt\n",
    "import plotly.express as px\n",
    "import plotly.figure_factory as ff"
   ]
  },
  {
   "cell_type": "code",
   "execution_count": null,
   "metadata": {},
   "outputs": [],
   "source": [
    "def load_data_s():\n",
    "    df=pd.read_csv('TrueData.csv', sep=',')\n",
    "    x_train = df.values\n",
    "    return x_train"
   ]
  },
  {
   "cell_type": "code",
   "execution_count": null,
   "metadata": {},
   "outputs": [],
   "source": [
    "def var_par_vis (var_par):\n",
    "    fig = ff.create_quiver(np.zeros(len(var_par)),np.zeros(len(var_par)), var_par[:,0]*np.cos(var_par[:,1]), var_par[:,0]*np.sin(var_par[:,1]),scale=.25,\n",
    "                       arrow_scale=.1,\n",
    "                       name='quiver',\n",
    "                       line=dict(width=1))\n",
    "    fig.show()"
   ]
  },
  {
   "cell_type": "code",
   "execution_count": null,
   "metadata": {},
   "outputs": [],
   "source": [
    "# Recreate the exact same inverse problem neural network model purely from the file\n",
    "s_model = load_model('inv_prob_nn.h5')"
   ]
  },
  {
   "cell_type": "code",
   "execution_count": null,
   "metadata": {},
   "outputs": [],
   "source": [
    "def PhysWorld(var_par, Trib, accell_g, vis):\n",
    "    dt=0.001\n",
    "    kdivm=Trib\n",
    "    x=np.zeros(1)\n",
    "    y=np.zeros(1)\n",
    "    v_x=np.empty(0)\n",
    "    v_y=np.empty(0)\n",
    "    v_x_new=var_par[0]*np.cos(var_par[1])\n",
    "    v_y_new=var_par[0]*np.sin(var_par[1])\n",
    "    v_x=np.append(v_x,v_x_new)\n",
    "    v_y=np.append(v_y,v_y_new)\n",
    "    #DE Solving\n",
    "    i=0\n",
    "    while ((y[i])>=0):\n",
    "        v_x_new=v_x[i]-kdivm*v_x[i]*np.sqrt(v_x[i]**2+v_y[i]**2)*dt\n",
    "        v_x=np.append(v_x,v_x_new)\n",
    "        v_y_new=v_y[i]-(accell_g+kdivm*v_y[i]*np.sqrt(v_x[i]**2+v_y[i]**2))*dt\n",
    "        v_y=np.append(v_y,v_y_new)\n",
    "        x_new=x[i]+0.5*(v_x[i]+v_x_new)*dt\n",
    "        y_new=y[i]+0.5*(v_y[i]+v_y_new)*dt\n",
    "        x=np.append(x,x_new)\n",
    "        y=np.append(y,y_new)\n",
    "        i=i+1\n",
    "    if vis==True:\n",
    "        fig = px.scatter(x=x, y=y)\n",
    "        fig.show()\n",
    "    sensor_data=np.array([x_new,np.arctan2(v_y_new, v_x_new)])\n",
    "\n",
    "    return sensor_data"
   ]
  },
  {
   "cell_type": "code",
   "execution_count": null,
   "metadata": {},
   "outputs": [],
   "source": [
    "accell_g=9.8\n",
    "Trib=0.25"
   ]
  },
  {
   "cell_type": "code",
   "execution_count": null,
   "metadata": {},
   "outputs": [],
   "source": [
    "params_true = load_data_s()"
   ]
  },
  {
   "cell_type": "code",
   "execution_count": null,
   "metadata": {},
   "outputs": [],
   "source": [
    "params_true[0:1,:]"
   ]
  },
  {
   "cell_type": "code",
   "execution_count": null,
   "metadata": {},
   "outputs": [],
   "source": [
    "params_true[0:1,0]*np.cos(params_true[0:1,1])/4"
   ]
  },
  {
   "cell_type": "code",
   "execution_count": null,
   "metadata": {},
   "outputs": [],
   "source": [
    "params_true[0:1,0]*np.sin(params_true[0:1,1])/4"
   ]
  },
  {
   "cell_type": "code",
   "execution_count": null,
   "metadata": {},
   "outputs": [],
   "source": [
    "var_par_vis(params_true[0:1,:])"
   ]
  },
  {
   "cell_type": "code",
   "execution_count": null,
   "metadata": {},
   "outputs": [],
   "source": [
    "sensors=PhysWorld(params_true[0,:], Trib, accell_g, True)"
   ]
  },
  {
   "cell_type": "code",
   "execution_count": null,
   "metadata": {},
   "outputs": [],
   "source": [
    "sensors=sensors.reshape(1,2)\n",
    "sensors"
   ]
  },
  {
   "cell_type": "code",
   "execution_count": null,
   "metadata": {},
   "outputs": [],
   "source": [
    "par_predict=s_model.predict(sensors)"
   ]
  },
  {
   "cell_type": "code",
   "execution_count": null,
   "metadata": {},
   "outputs": [],
   "source": [
    "par_predict"
   ]
  },
  {
   "cell_type": "code",
   "execution_count": null,
   "metadata": {},
   "outputs": [],
   "source": []
  }
 ],
 "metadata": {
  "kernelspec": {
   "display_name": "Python 3",
   "language": "python",
   "name": "python3"
  },
  "language_info": {
   "codemirror_mode": {
    "name": "ipython",
    "version": 3
   },
   "file_extension": ".py",
   "mimetype": "text/x-python",
   "name": "python",
   "nbconvert_exporter": "python",
   "pygments_lexer": "ipython3",
   "version": "3.6.5"
  }
 },
 "nbformat": 4,
 "nbformat_minor": 2
}
